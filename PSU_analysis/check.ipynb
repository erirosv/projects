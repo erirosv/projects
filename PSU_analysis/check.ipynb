{
 "cells": [
  {
   "cell_type": "code",
   "execution_count": 1,
   "metadata": {},
   "outputs": [],
   "source": [
    "import pandas as pd\n",
    "import seaborn as sns \n",
    "import matplotlib.pyplot as plt"
   ]
  },
  {
   "cell_type": "code",
   "execution_count": 2,
   "metadata": {},
   "outputs": [
    {
     "data": {
      "text/html": [
       "<div>\n",
       "<style scoped>\n",
       "    .dataframe tbody tr th:only-of-type {\n",
       "        vertical-align: middle;\n",
       "    }\n",
       "\n",
       "    .dataframe tbody tr th {\n",
       "        vertical-align: top;\n",
       "    }\n",
       "\n",
       "    .dataframe thead th {\n",
       "        text-align: right;\n",
       "    }\n",
       "</style>\n",
       "<table border=\"1\" class=\"dataframe\">\n",
       "  <thead>\n",
       "    <tr style=\"text-align: right;\">\n",
       "      <th></th>\n",
       "      <th>Brand</th>\n",
       "      <th>Model</th>\n",
       "      <th>Form Factor</th>\n",
       "      <th>Cybenetics Rating</th>\n",
       "      <th>20W Efficiency</th>\n",
       "      <th>40W Efficiency</th>\n",
       "      <th>60W Efficiency</th>\n",
       "      <th>80W Efficiency</th>\n",
       "      <th>Report Link</th>\n",
       "    </tr>\n",
       "  </thead>\n",
       "  <tbody>\n",
       "    <tr>\n",
       "      <th>0</th>\n",
       "      <td>Seasonic</td>\n",
       "      <td>Prime Titanium 750W</td>\n",
       "      <td>ATX12V</td>\n",
       "      <td>TITANIUM</td>\n",
       "      <td>81,93%</td>\n",
       "      <td>88,77%</td>\n",
       "      <td>90,73%</td>\n",
       "      <td>92,36%</td>\n",
       "      <td>https://www.cybenetics.com/d/cybenetics_xGy.pdf</td>\n",
       "    </tr>\n",
       "    <tr>\n",
       "      <th>1</th>\n",
       "      <td>Seasonic</td>\n",
       "      <td>Prime Titanium 650W</td>\n",
       "      <td>ATX12V</td>\n",
       "      <td>PLATINUM</td>\n",
       "      <td>81,60%</td>\n",
       "      <td>88,76%</td>\n",
       "      <td>90,47%</td>\n",
       "      <td>92,08%</td>\n",
       "      <td>https://www.cybenetics.com/d/cybenetics_ZfJ.pdf</td>\n",
       "    </tr>\n",
       "    <tr>\n",
       "      <th>2</th>\n",
       "      <td>Corsair</td>\n",
       "      <td>RM550x (2021)</td>\n",
       "      <td>ATX12V</td>\n",
       "      <td>GOLD</td>\n",
       "      <td>81,19%</td>\n",
       "      <td>85,65%</td>\n",
       "      <td>87,39%</td>\n",
       "      <td>87,92%</td>\n",
       "      <td>https://www.cybenetics.com/d/cybenetics_rn4.pdf</td>\n",
       "    </tr>\n",
       "    <tr>\n",
       "      <th>3</th>\n",
       "      <td>Cooler Master</td>\n",
       "      <td>MWE 400</td>\n",
       "      <td>ATX12V</td>\n",
       "      <td>NaN</td>\n",
       "      <td>81,12%</td>\n",
       "      <td>85,18%</td>\n",
       "      <td>86,50%</td>\n",
       "      <td>87,33%</td>\n",
       "      <td>https://www.cybenetics.com/d/cybenetics_H7o.pdf</td>\n",
       "    </tr>\n",
       "    <tr>\n",
       "      <th>4</th>\n",
       "      <td>Seasonic</td>\n",
       "      <td>Prime Titanium 850W</td>\n",
       "      <td>ATX12V</td>\n",
       "      <td>TITANIUM</td>\n",
       "      <td>81,00%</td>\n",
       "      <td>88,59%</td>\n",
       "      <td>90,72%</td>\n",
       "      <td>92,14%</td>\n",
       "      <td>https://www.cybenetics.com/d/cybenetics_B7p.pdf</td>\n",
       "    </tr>\n",
       "  </tbody>\n",
       "</table>\n",
       "</div>"
      ],
      "text/plain": [
       "           Brand                Model Form Factor Cybenetics Rating  \\\n",
       "0       Seasonic  Prime Titanium 750W      ATX12V          TITANIUM   \n",
       "1       Seasonic  Prime Titanium 650W      ATX12V          PLATINUM   \n",
       "2        Corsair        RM550x (2021)      ATX12V              GOLD   \n",
       "3  Cooler Master              MWE 400      ATX12V               NaN   \n",
       "4       Seasonic  Prime Titanium 850W      ATX12V          TITANIUM   \n",
       "\n",
       "  20W Efficiency 40W Efficiency 60W Efficiency 80W Efficiency  \\\n",
       "0         81,93%         88,77%         90,73%         92,36%   \n",
       "1         81,60%         88,76%         90,47%         92,08%   \n",
       "2         81,19%         85,65%         87,39%         87,92%   \n",
       "3         81,12%         85,18%         86,50%         87,33%   \n",
       "4         81,00%         88,59%         90,72%         92,14%   \n",
       "\n",
       "                                       Report Link  \n",
       "0  https://www.cybenetics.com/d/cybenetics_xGy.pdf  \n",
       "1  https://www.cybenetics.com/d/cybenetics_ZfJ.pdf  \n",
       "2  https://www.cybenetics.com/d/cybenetics_rn4.pdf  \n",
       "3  https://www.cybenetics.com/d/cybenetics_H7o.pdf  \n",
       "4  https://www.cybenetics.com/d/cybenetics_B7p.pdf  "
      ]
     },
     "execution_count": 2,
     "metadata": {},
     "output_type": "execute_result"
    }
   ],
   "source": [
    "df = pd.read_csv('PSU_data.csv')\n",
    "df.head()"
   ]
  },
  {
   "cell_type": "code",
   "execution_count": 3,
   "metadata": {},
   "outputs": [
    {
     "data": {
      "text/plain": [
       "0    Prime Titanium 750W\n",
       "1    Prime Titanium 650W\n",
       "2          RM550x (2021)\n",
       "3                MWE 400\n",
       "4    Prime Titanium 850W\n",
       "Name: Model, dtype: object"
      ]
     },
     "execution_count": 3,
     "metadata": {},
     "output_type": "execute_result"
    }
   ],
   "source": [
    "df['Model'].head()"
   ]
  },
  {
   "cell_type": "markdown",
   "metadata": {},
   "source": [
    "Extracting the watts from the Modesl"
   ]
  },
  {
   "cell_type": "code",
   "execution_count": 4,
   "metadata": {},
   "outputs": [],
   "source": [
    "df['Watts'] = df['Model'].str.findall(r'(\\d+)')\n",
    "df['Watts'] = df['Watts'].apply(lambda x: x[0] if x else None).str.strip('[]')\n",
    "df['Watts'] = pd.to_numeric(df['Watts'], errors='coerce')"
   ]
  },
  {
   "cell_type": "code",
   "execution_count": 5,
   "metadata": {},
   "outputs": [
    {
     "data": {
      "text/html": [
       "<div>\n",
       "<style scoped>\n",
       "    .dataframe tbody tr th:only-of-type {\n",
       "        vertical-align: middle;\n",
       "    }\n",
       "\n",
       "    .dataframe tbody tr th {\n",
       "        vertical-align: top;\n",
       "    }\n",
       "\n",
       "    .dataframe thead th {\n",
       "        text-align: right;\n",
       "    }\n",
       "</style>\n",
       "<table border=\"1\" class=\"dataframe\">\n",
       "  <thead>\n",
       "    <tr style=\"text-align: right;\">\n",
       "      <th></th>\n",
       "      <th>Brand</th>\n",
       "      <th>Model</th>\n",
       "      <th>Form Factor</th>\n",
       "      <th>Cybenetics Rating</th>\n",
       "      <th>20W Efficiency</th>\n",
       "      <th>40W Efficiency</th>\n",
       "      <th>60W Efficiency</th>\n",
       "      <th>80W Efficiency</th>\n",
       "      <th>Report Link</th>\n",
       "      <th>Watts</th>\n",
       "    </tr>\n",
       "  </thead>\n",
       "  <tbody>\n",
       "    <tr>\n",
       "      <th>0</th>\n",
       "      <td>Seasonic</td>\n",
       "      <td>Prime Titanium 750W</td>\n",
       "      <td>ATX12V</td>\n",
       "      <td>TITANIUM</td>\n",
       "      <td>81,93%</td>\n",
       "      <td>88,77%</td>\n",
       "      <td>90,73%</td>\n",
       "      <td>92,36%</td>\n",
       "      <td>https://www.cybenetics.com/d/cybenetics_xGy.pdf</td>\n",
       "      <td>750</td>\n",
       "    </tr>\n",
       "    <tr>\n",
       "      <th>1</th>\n",
       "      <td>Seasonic</td>\n",
       "      <td>Prime Titanium 650W</td>\n",
       "      <td>ATX12V</td>\n",
       "      <td>PLATINUM</td>\n",
       "      <td>81,60%</td>\n",
       "      <td>88,76%</td>\n",
       "      <td>90,47%</td>\n",
       "      <td>92,08%</td>\n",
       "      <td>https://www.cybenetics.com/d/cybenetics_ZfJ.pdf</td>\n",
       "      <td>650</td>\n",
       "    </tr>\n",
       "    <tr>\n",
       "      <th>2</th>\n",
       "      <td>Corsair</td>\n",
       "      <td>RM550x (2021)</td>\n",
       "      <td>ATX12V</td>\n",
       "      <td>GOLD</td>\n",
       "      <td>81,19%</td>\n",
       "      <td>85,65%</td>\n",
       "      <td>87,39%</td>\n",
       "      <td>87,92%</td>\n",
       "      <td>https://www.cybenetics.com/d/cybenetics_rn4.pdf</td>\n",
       "      <td>550</td>\n",
       "    </tr>\n",
       "    <tr>\n",
       "      <th>3</th>\n",
       "      <td>Cooler Master</td>\n",
       "      <td>MWE 400</td>\n",
       "      <td>ATX12V</td>\n",
       "      <td>NaN</td>\n",
       "      <td>81,12%</td>\n",
       "      <td>85,18%</td>\n",
       "      <td>86,50%</td>\n",
       "      <td>87,33%</td>\n",
       "      <td>https://www.cybenetics.com/d/cybenetics_H7o.pdf</td>\n",
       "      <td>400</td>\n",
       "    </tr>\n",
       "    <tr>\n",
       "      <th>4</th>\n",
       "      <td>Seasonic</td>\n",
       "      <td>Prime Titanium 850W</td>\n",
       "      <td>ATX12V</td>\n",
       "      <td>TITANIUM</td>\n",
       "      <td>81,00%</td>\n",
       "      <td>88,59%</td>\n",
       "      <td>90,72%</td>\n",
       "      <td>92,14%</td>\n",
       "      <td>https://www.cybenetics.com/d/cybenetics_B7p.pdf</td>\n",
       "      <td>850</td>\n",
       "    </tr>\n",
       "  </tbody>\n",
       "</table>\n",
       "</div>"
      ],
      "text/plain": [
       "           Brand                Model Form Factor Cybenetics Rating  \\\n",
       "0       Seasonic  Prime Titanium 750W      ATX12V          TITANIUM   \n",
       "1       Seasonic  Prime Titanium 650W      ATX12V          PLATINUM   \n",
       "2        Corsair        RM550x (2021)      ATX12V              GOLD   \n",
       "3  Cooler Master              MWE 400      ATX12V               NaN   \n",
       "4       Seasonic  Prime Titanium 850W      ATX12V          TITANIUM   \n",
       "\n",
       "  20W Efficiency 40W Efficiency 60W Efficiency 80W Efficiency  \\\n",
       "0         81,93%         88,77%         90,73%         92,36%   \n",
       "1         81,60%         88,76%         90,47%         92,08%   \n",
       "2         81,19%         85,65%         87,39%         87,92%   \n",
       "3         81,12%         85,18%         86,50%         87,33%   \n",
       "4         81,00%         88,59%         90,72%         92,14%   \n",
       "\n",
       "                                       Report Link  Watts  \n",
       "0  https://www.cybenetics.com/d/cybenetics_xGy.pdf    750  \n",
       "1  https://www.cybenetics.com/d/cybenetics_ZfJ.pdf    650  \n",
       "2  https://www.cybenetics.com/d/cybenetics_rn4.pdf    550  \n",
       "3  https://www.cybenetics.com/d/cybenetics_H7o.pdf    400  \n",
       "4  https://www.cybenetics.com/d/cybenetics_B7p.pdf    850  "
      ]
     },
     "execution_count": 5,
     "metadata": {},
     "output_type": "execute_result"
    }
   ],
   "source": [
    "df.head()"
   ]
  },
  {
   "cell_type": "code",
   "execution_count": 6,
   "metadata": {},
   "outputs": [
    {
     "name": "stdout",
     "output_type": "stream",
     "text": [
      "\n",
      "NaN values in the 'Watts' column:\n",
      "0      False\n",
      "1      False\n",
      "2      False\n",
      "3      False\n",
      "4      False\n",
      "       ...  \n",
      "587    False\n",
      "588    False\n",
      "589    False\n",
      "590    False\n",
      "591    False\n",
      "Name: Watts, Length: 592, dtype: bool\n"
     ]
    }
   ],
   "source": [
    "nan_values = df['Watts'].isna()\n",
    "print(\"\\nNaN values in the 'Watts' column:\")\n",
    "print(nan_values)"
   ]
  },
  {
   "cell_type": "code",
   "execution_count": 16,
   "metadata": {},
   "outputs": [
    {
     "data": {
      "image/png": "[encoded data removed]",
      "text/plain": [
       "<Figure size 1000x600 with 1 Axes>"
      ]
     },
     "metadata": {},
     "output_type": "display_data"
    }
   ],
   "source": [
    "aggregated_df = df.groupby('Watts').size().reset_index(name='Count')\n",
    "plt.figure(figsize=(10, 6))\n",
    "sns.barplot(x='Count', y='Watts', data=aggregated_df, color='skyblue')\n",
    "plt.xlabel('Watts')\n",
    "plt.ylabel('Power Supply Models')\n",
    "plt.title('Wattages of Power Supplies')\n",
    "plt.show()"
   ]
  },
  {
   "cell_type": "code",
   "execution_count": null,
   "metadata": {},
   "outputs": [],
   "source": []
  }
 ],
 "metadata": {
  "kernelspec": {
   "display_name": "Python 3",
   "language": "python",
   "name": "python3"
  },
  "language_info": {
   "codemirror_mode": {
    "name": "ipython",
    "version": 3
   },
   "file_extension": ".py",
   "mimetype": "text/x-python",
   "name": "python",
   "nbconvert_exporter": "python",
   "pygments_lexer": "ipython3",
   "version": "3.10.11"
  }
 },
 "nbformat": 4,
 "nbformat_minor": 2
}
